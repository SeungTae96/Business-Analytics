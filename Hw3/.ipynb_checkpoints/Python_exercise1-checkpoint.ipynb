{
 "cells": [
  {
   "cell_type": "markdown",
   "metadata": {},
   "source": [
    "## 강의 내용 정리 "
   ]
  },
  {
   "cell_type": "markdown",
   "metadata": {},
   "source": [
    "### 텍스트마이닝 정의 "
   ]
  },
  {
   "cell_type": "markdown",
   "metadata": {},
   "source": [
    " - 일정한 길이의 vector로 변환 \n",
    " - 변환된 vector에 머신러닝(딥러닝)기법을 적용 "
   ]
  },
  {
   "cell_type": "markdown",
   "metadata": {},
   "source": [
    "### 텍스트 마이닝의 이해를 위한 기본요구 "
   ]
  },
  {
   "cell_type": "markdown",
   "metadata": {},
   "source": [
    " - 자연어 처리 \n",
    " - 통계학과 선형대수 \n",
    " - 머신러닝 \n",
    " - 딥러닝 "
   ]
  },
  {
   "cell_type": "markdown",
   "metadata": {},
   "source": [
    "### 텍스트 마이닝 적용분야 "
   ]
  },
  {
   "cell_type": "markdown",
   "metadata": {},
   "source": [
    " - 문서 분류 \n",
    " - 문서 발생 \n",
    " - 키워드 추출 \n",
    " - 주제 모델링 "
   ]
  },
  {
   "cell_type": "markdown",
   "metadata": {},
   "source": [
    "### 텍스트 마이닝 도구 - 파이썬 "
   ]
  },
  {
   "cell_type": "markdown",
   "metadata": {},
   "source": [
    "- NLTK \n",
    "가장 많이 알려진 NLP 라이브러리 \n",
    "- Scikit Learn \n",
    "머신러닝 라이브러리 \n",
    "- Genism\n",
    "Word2Vec으로 유명하여 텍스트 관련 도구 지원 \n",
    "- Keras \n",
    "RNN, seq2seq 등 딥러닝 위주의 라이브러리 제공 "
   ]
  },
  {
   "cell_type": "markdown",
   "metadata": {},
   "source": [
    "### 회귀 분석 "
   ]
  },
  {
   "cell_type": "markdown",
   "metadata": {},
   "source": [
    "- 추정해야 할 계수가 vector의 크기만큼 존재하므로, 많은 데이터 셋 필요 \n",
    "- 그럼에도 잘 작동하는 편 \n",
    "- 정규화를 이용해 과적합 해결 노력 "
   ]
  },
  {
   "cell_type": "markdown",
   "metadata": {},
   "source": [
    "### 텍스트마이닝의 문제점 "
   ]
  },
  {
   "cell_type": "markdown",
   "metadata": {},
   "source": [
    "#### 차원의 저주 "
   ]
  },
  {
   "cell_type": "markdown",
   "metadata": {},
   "source": [
    "- 각 데이터 간의 거리가 너무 멀리 위치 \n",
    "- 해결 방법 \n",
    "    - 더 많은 데이터 \n",
    "    - 차원 축소 "
   ]
  },
  {
   "cell_type": "markdown",
   "metadata": {},
   "source": [
    "#### 단어 빈도의 불균형 "
   ]
  },
  {
   "cell_type": "markdown",
   "metadata": {},
   "source": [
    "- 멱법칙 \n",
    "    - 극히 소수의 데이터가 결정적인 영향을 미침 \n",
    "- 해결방안 \n",
    "    - 특징 추출 \n",
    "    - Boolean Bow사용 \n",
    "    - log함수를 이용해 weight변경 "
   ]
  },
  {
   "cell_type": "markdown",
   "metadata": {},
   "source": [
    "#### 단어가 쓰인 순서정보의 손실 "
   ]
  },
  {
   "cell_type": "markdown",
   "metadata": {},
   "source": [
    "- 통계에 대한 의미 파악 vs 순서에 의한 의미 파악 \n",
    "    - 해결방안 \n",
    "        - n-gram\n",
    "        - Deep learning"
   ]
  },
  {
   "cell_type": "markdown",
   "metadata": {},
   "source": [
    "### Word Embedding "
   ]
  },
  {
   "cell_type": "markdown",
   "metadata": {},
   "source": [
    "- 단어에 대한 vector의 차원 축소가 목표 \n",
    "- Word2Vec 사용 "
   ]
  },
  {
   "cell_type": "markdown",
   "metadata": {},
   "source": [
    "### Word2Vect"
   ]
  },
  {
   "cell_type": "markdown",
   "metadata": {},
   "source": [
    "- CBOW : 주변단어들을 이용해 다음 단어를 예측 \n",
    "- Skip-gram : 한 단어의 주변단어를 예측 "
   ]
  },
  {
   "cell_type": "markdown",
   "metadata": {},
   "source": [
    "### Sequence to sequence "
   ]
  },
  {
   "cell_type": "markdown",
   "metadata": {},
   "source": [
    "- 지금까지의 입력은 sequence, 출력은 하나의 값인 경우가 일반적이나 , 번역, 챗봇은 출력도 sequence가 된다.  "
   ]
  },
  {
   "cell_type": "markdown",
   "metadata": {},
   "source": [
    "### Transfer "
   ]
  },
  {
   "cell_type": "markdown",
   "metadata": {},
   "source": [
    "- 입력단어끼리도 상호연관성이 있는 것에 착안 "
   ]
  },
  {
   "cell_type": "markdown",
   "metadata": {},
   "source": [
    "### 네이버영화 리뷰 크롤링"
   ]
  },
  {
   "cell_type": "markdown",
   "metadata": {},
   "source": [
    "- 교양수업 중 영화감상문을 위해 관람객의 영화 리뷰 데이터를 간단히 살펴본다. "
   ]
  },
  {
   "cell_type": "code",
   "execution_count": null,
   "metadata": {},
   "outputs": [],
   "source": [
    "import requests\n",
    "from bs4 import BeautifulSoup"
   ]
  },
  {
   "cell_type": "code",
   "execution_count": null,
   "metadata": {},
   "outputs": [],
   "source": [
    "url = \"https://movie.naver.com/movie/bi/mi/review.nhn?code=18783&page=1#\"\n",
    "res = requests.get(url)\n",
    "soup = BeautifulSoup(res.text,\"lxml\")\n",
    "\n",
    "ul = soup.find(\"ul\", class_=\"rvw_list_area\")\n",
    "lis = ul.find_all(\"li\")\n",
    "len(lis)\n",
    "\n",
    "for li in lis : \n",
    "    print(li.p.text)"
   ]
  }
 ],
 "metadata": {
  "kernelspec": {
   "display_name": "Python 3",
   "language": "python",
   "name": "python3"
  },
  "language_info": {
   "codemirror_mode": {
    "name": "ipython",
    "version": 3
   },
   "file_extension": ".py",
   "mimetype": "text/x-python",
   "name": "python",
   "nbconvert_exporter": "python",
   "pygments_lexer": "ipython3",
   "version": "3.7.0"
  }
 },
 "nbformat": 4,
 "nbformat_minor": 2
}
