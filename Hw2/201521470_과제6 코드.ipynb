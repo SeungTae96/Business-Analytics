{
 "cells": [
  {
   "cell_type": "code",
   "execution_count": 1,
   "metadata": {
    "collapsed": true
   },
   "outputs": [
    {
     "name": "stdout",
     "output_type": "stream",
     "text": [
      "21대 총선의 국회의원 수는 총 300명인데 그 중 지역구는 253명이고 전국구는 47명입니다\n",
      "A당의 지역구 당선 의원수를 입력하세요: 63\n",
      "B당의 지역구 당선 의원수를 입력하세요: 35\n",
      "C당의 지역구 당선 의원수를 입력하세요: 91\n",
      "D당의 지역구 당선 의원수를 입력하세요: 64\n",
      "A당의 정당 지지율을 입력하세요 (%): 20\n",
      "B당의 정당 지지율을 입력하세요 (%): 15\n",
      "C당의 정당 지지율을 입력하세요 (%): 42\n",
      "D당의 정당 지지율을 입력하세요 (%): 23\n",
      "A당의 지역구 의원수는 63 명 이고, 전국구 의원수는 3 명 입니다\n",
      "B당의 지역구 의원수는 35 명 이고, 전국구 의원수는 8 명 입니다\n",
      "C당의 지역구 의원수는 91 명 이고, 전국구 의원수는 25 명 입니다\n",
      "D당의 지역구 의원수는 64 명 이고, 전국구 의원수는 6 명 입니다\n"
     ]
    }
   ],
   "source": [
    "print(\"21대 총선의 국회의원 수는 총 300명인데 그 중 지역구는 253명이고 전국구는 47명입니다\")\n",
    "a_region = int(input(\"A당의 지역구 당선 의원수를 입력하세요: \"))\n",
    "b_region = int(input(\"B당의 지역구 당선 의원수를 입력하세요: \"))\n",
    "c_region = int(input(\"C당의 지역구 당선 의원수를 입력하세요: \"))\n",
    "d_region = int(input(\"D당의 지역구 당선 의원수를 입력하세요: \"))\n",
    "a_approval = float(input(\"A당의 정당 지지율을 입력하세요 (%): \"))\n",
    "b_approval = float(input(\"B당의 정당 지지율을 입력하세요 (%): \"))\n",
    "c_approval = float(input(\"C당의 정당 지지율을 입력하세요 (%): \"))\n",
    "d_approval = float(input(\"D당의 정당 지지율을 입력하세요 (%): \"))\n",
    "\n",
    "#전국구 의원수 계산 \n",
    "#준연동형 의석 수 계산시 음수면 값을 0 으로 대체\n",
    "def calculator(region, approval) :\n",
    "    country = round(max((approval * 300 / 100 - region) / 2, 0)) + round(approval * 17 / 100) \n",
    "    return country\n",
    "\n",
    "#봉쇄조항 설정 & 결과\n",
    "if a_approval < 3 or b_approval < 3 or c_approval < 3 or d_approval < 3 : \n",
    "    print(\"비례대표 의석 배분을 받기 위해선 최소 정당 득표율(3%, 봉쇄조항)을 넘겨야 합니다\")\n",
    "else : \n",
    "    print(\"A당의 지역구 의원수는\", a_region, \"명 이고, 전국구 의원수는\", calculator(a_region, a_approval), \"명 입니다\")\n",
    "    print(\"B당의 지역구 의원수는\", b_region, \"명 이고, 전국구 의원수는\", calculator(b_region, b_approval), \"명 입니다\")\n",
    "    print(\"C당의 지역구 의원수는\", c_region, \"명 이고, 전국구 의원수는\", calculator(c_region, c_approval), \"명 입니다\")\n",
    "    print(\"D당의 지역구 의원수는\", d_region, \"명 이고, 전국구 의원수는\", calculator(d_region, d_approval), \"명 입니다\")"
   ]
  }
 ],
 "metadata": {
  "kernelspec": {
   "display_name": "Python 3",
   "language": "python",
   "name": "python3"
  },
  "language_info": {
   "codemirror_mode": {
    "name": "ipython",
    "version": 3
   },
   "file_extension": ".py",
   "mimetype": "text/x-python",
   "name": "python",
   "nbconvert_exporter": "python",
   "pygments_lexer": "ipython3",
   "version": "3.7.0"
  }
 },
 "nbformat": 4,
 "nbformat_minor": 2
}
