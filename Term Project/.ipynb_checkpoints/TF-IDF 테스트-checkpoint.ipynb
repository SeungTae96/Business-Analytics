{
 "cells": [
  {
   "cell_type": "code",
   "execution_count": 25,
   "metadata": {},
   "outputs": [],
   "source": [
    "#패키지 설치 \n",
    "import pandas as pd\n",
    "from urllib import request\n",
    "from bs4 import BeautifulSoup\n",
    "from konlpy.tag import Hannanum\n",
    "from sklearn.feature_extraction.text import TfidfVectorizer\n",
    "import re\n",
    "import numpy as np"
   ]
  },
  {
   "cell_type": "code",
   "execution_count": 67,
   "metadata": {},
   "outputs": [
    {
     "data": {
      "text/html": [
       "<div>\n",
       "<style scoped>\n",
       "    .dataframe tbody tr th:only-of-type {\n",
       "        vertical-align: middle;\n",
       "    }\n",
       "\n",
       "    .dataframe tbody tr th {\n",
       "        vertical-align: top;\n",
       "    }\n",
       "\n",
       "    .dataframe thead th {\n",
       "        text-align: right;\n",
       "    }\n",
       "</style>\n",
       "<table border=\"1\" class=\"dataframe\">\n",
       "  <thead>\n",
       "    <tr style=\"text-align: right;\">\n",
       "      <th></th>\n",
       "      <th>name</th>\n",
       "      <th>review</th>\n",
       "    </tr>\n",
       "  </thead>\n",
       "  <tbody>\n",
       "    <tr>\n",
       "      <th>0</th>\n",
       "      <td>홈런볼</td>\n",
       "      <td>,\"코로나로 인해 연세가 많으신 어머니가\\n복지관을 못가시고 집에 계신지 8개월은\\...</td>\n",
       "    </tr>\n",
       "    <tr>\n",
       "      <th>1</th>\n",
       "      <td>게메즈 에낙 라면</td>\n",
       "      <td>\"게메즈 에낙 라면 과자가 맛있긴 하더라고요.\\n문방구에서 100원짜리 작은 거 사...</td>\n",
       "    </tr>\n",
       "    <tr>\n",
       "      <th>2</th>\n",
       "      <td>고래밥</td>\n",
       "      <td>\"식구들의 간식먹는 시간이 늘고 어르신\\n도 계셔서 딱딱한 종류의 과자는 잘 못드\\...</td>\n",
       "    </tr>\n",
       "    <tr>\n",
       "      <th>3</th>\n",
       "      <td>참쌉선과</td>\n",
       "      <td>\"직장동료들과 정기적으로 구매해서 먹고 있어요~~^♡^\\n한 달에 한번씩, 또는 두...</td>\n",
       "    </tr>\n",
       "    <tr>\n",
       "      <th>4</th>\n",
       "      <td>쌀과자</td>\n",
       "      <td>\"곰곰 쌀과자 단짠고소 너무 맛있어요 진짜 ㅠㅠ\\n\\n전에 다른 분이 시켜서 가져오...</td>\n",
       "    </tr>\n",
       "    <tr>\n",
       "      <th>5</th>\n",
       "      <td>뿌셔뿌셔 갈비맛</td>\n",
       "      <td>\"◈구입일자 : 2020년 09월 01일\\n◈구입가격 : 5,400원(10개입)\\n...</td>\n",
       "    </tr>\n",
       "  </tbody>\n",
       "</table>\n",
       "</div>"
      ],
      "text/plain": [
       "        name                                             review\n",
       "0        홈런볼  ,\"코로나로 인해 연세가 많으신 어머니가\\n복지관을 못가시고 집에 계신지 8개월은\\...\n",
       "1  게메즈 에낙 라면  \"게메즈 에낙 라면 과자가 맛있긴 하더라고요.\\n문방구에서 100원짜리 작은 거 사...\n",
       "2        고래밥  \"식구들의 간식먹는 시간이 늘고 어르신\\n도 계셔서 딱딱한 종류의 과자는 잘 못드\\...\n",
       "3       참쌉선과  \"직장동료들과 정기적으로 구매해서 먹고 있어요~~^♡^\\n한 달에 한번씩, 또는 두...\n",
       "4        쌀과자  \"곰곰 쌀과자 단짠고소 너무 맛있어요 진짜 ㅠㅠ\\n\\n전에 다른 분이 시켜서 가져오...\n",
       "5   뿌셔뿌셔 갈비맛  \"◈구입일자 : 2020년 09월 01일\\n◈구입가격 : 5,400원(10개입)\\n..."
      ]
     },
     "execution_count": 67,
     "metadata": {},
     "output_type": "execute_result"
    }
   ],
   "source": [
    "#데이터 불러오기 \n",
    "#6개의 과자 데이터만 엑셀로 병합\n",
    "test_df = pd.read_csv('test.csv', encoding = 'CP949')\n",
    "test_df"
   ]
  },
  {
   "cell_type": "code",
   "execution_count": 69,
   "metadata": {},
   "outputs": [
    {
     "name": "stdout",
     "output_type": "stream",
     "text": [
      "(6, 10298)\n"
     ]
    }
   ],
   "source": [
    "#tf-idf 준비(1)\n",
    "#6개의 과자를 표현하기 위해 10298개 단어 사용\n",
    "v = TfidfVectorizer()\n",
    "x = v.fit_transform(test_df['review'].values.astype('U'))\n",
    "print(x.shape)"
   ]
  },
  {
   "cell_type": "code",
   "execution_count": 58,
   "metadata": {},
   "outputs": [],
   "source": [
    "#코사인 유사도 패키지 설치 \n",
    "from sklearn.metrics.pairwise import linear_kernel"
   ]
  },
  {
   "cell_type": "code",
   "execution_count": null,
   "metadata": {},
   "outputs": [],
   "source": [
    "#코사인 유사도 준비\n",
    "cosine_sim = linear_kernel(x,x)"
   ]
  },
  {
   "cell_type": "code",
   "execution_count": 61,
   "metadata": {},
   "outputs": [
    {
     "name": "stdout",
     "output_type": "stream",
     "text": [
      "name\n",
      "홈런볼          0\n",
      "게메즈 에낙 라면    1\n",
      "고래밥          2\n",
      "참쌉선과         3\n",
      "쌀과자          4\n",
      "dtype: int64\n"
     ]
    }
   ],
   "source": [
    "#과자 테이블 \n",
    "indices = pd.Series(test_df.index, index=test_df['name']).drop_duplicates()\n",
    "print(indices.head())"
   ]
  },
  {
   "cell_type": "code",
   "execution_count": 70,
   "metadata": {},
   "outputs": [],
   "source": [
    "#유사한 과자 찾기 함수 \n",
    "def get_recommendations(name, cosine_sim=cosine_sim):\n",
    "    # 선택한 과자의 이름으로부터 해당되는 인덱스를 받아옴\n",
    "    idx = indices[name]\n",
    "\n",
    "    # 모든 과자에 대해서 해당 과자와의 유사도를 구합니다.\n",
    "    sim_scores = list(enumerate(cosine_sim[idx]))\n",
    "\n",
    "    # 유사도에 따라 과자들을 정렬합니다.\n",
    "    sim_scores = sorted(sim_scores, key=lambda x: x[1], reverse=True)\n",
    "    \n",
    "    # 가장 유사한 10개의 영화를 받아옵니다.\n",
    "    sim_scores = sim_scores[1:4]\n",
    "\n",
    "    # 가장 유사한 10개의 영화의 인덱스를 받아옵니다.\n",
    "    snack_indices = [i[0] for i in sim_scores]\n",
    "\n",
    "    # 가장 유사한 10개의 영화의 제목을 리턴합니다.\n",
    "    return test_df['name'].iloc[snack_indices]\n",
    "    "
   ]
  },
  {
   "cell_type": "code",
   "execution_count": 71,
   "metadata": {},
   "outputs": [
    {
     "data": {
      "text/plain": [
       "1    게메즈 에낙 라면\n",
       "5     뿌셔뿌셔 갈비맛\n",
       "4          쌀과자\n",
       "Name: name, dtype: object"
      ]
     },
     "execution_count": 71,
     "metadata": {},
     "output_type": "execute_result"
    }
   ],
   "source": [
    "#유사한 과자 찾기\n",
    "get_recommendations('고래밥')"
   ]
  }
 ],
 "metadata": {
  "kernelspec": {
   "display_name": "Python 3",
   "language": "python",
   "name": "python3"
  },
  "language_info": {
   "codemirror_mode": {
    "name": "ipython",
    "version": 3
   },
   "file_extension": ".py",
   "mimetype": "text/x-python",
   "name": "python",
   "nbconvert_exporter": "python",
   "pygments_lexer": "ipython3",
   "version": "3.7.0"
  }
 },
 "nbformat": 4,
 "nbformat_minor": 2
}
